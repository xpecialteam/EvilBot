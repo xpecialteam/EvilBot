{
  "nbformat": 4,
  "nbformat_minor": 0,
  "metadata": {
    "colab": {
      "name": "Copy of AutoShill.ipynb",
      "provenance": [],
      "collapsed_sections": [],
      "include_colab_link": true
    },
    "kernelspec": {
      "name": "python3",
      "display_name": "Python 3"
    },
    "language_info": {
      "name": "python"
    }
  },
  "cells": [
    {
      "cell_type": "markdown",
      "metadata": {
        "id": "view-in-github",
        "colab_type": "text"
      },
      "source": [
        "<a href=\"https://colab.research.google.com/github/xpecialteam/EvilBot/blob/main/Copy_of_AutoShill.ipynb\" target=\"_parent\"><img src=\"https://colab.research.google.com/assets/colab-badge.svg\" alt=\"Open In Colab\"/></a>"
      ]
    },
    {
      "cell_type": "markdown",
      "metadata": {
        "id": "EjHJyi5PnSjU"
      },
      "source": [
        "# AutoShill\n",
        "check this guide  \n",
        "https://upfinity.gitbook.io/upfinity/ecosystem/utility/autoshill/how-to-use-autoshill \n",
        "\n",
        "If you have questions, DM @ALLCOINLAB"
      ]
    },
    {
      "cell_type": "code",
      "metadata": {
        "id": "b6u1D4uuiBW5"
      },
      "source": [
        "dsf# ONLY CLICK PLAY BUTTON IN THIS AREA IF SHILLING IS NOT WORKING PROPERLY!\n",
        "import os\n",
        "os.kill(os.getpid(), 9)"
      ],
      "execution_count": null,
      "outputs": []
    },
    {
      "cell_type": "code",
      "metadata": {
        "id": "IRx7tdAk7os1",
        "colab": {
          "base_uri": "https://localhost:8080/"
        },
        "outputId": "83d3b527-e67a-4b47-a442-8a0fd16f6e57"
      },
      "source": [
        "# 1. Click play button here\n",
        "%cd /content\n",
        "!rm -rf /content/AutoShill\n",
        "!git clone https://github.com/AllCoinLab/AutoShill.git"
      ],
      "execution_count": 2,
      "outputs": [
        {
          "output_type": "stream",
          "name": "stdout",
          "text": [
            "/content\n",
            "Cloning into 'AutoShill'...\n",
            "remote: Enumerating objects: 207, done.\u001b[K\n",
            "remote: Counting objects: 100% (168/168), done.\u001b[K\n",
            "remote: Compressing objects: 100% (100/100), done.\u001b[K\n",
            "remote: Total 207 (delta 104), reused 109 (delta 68), pack-reused 39\u001b[K\n",
            "Receiving objects: 100% (207/207), 124.76 MiB | 17.82 MiB/s, done.\n",
            "Resolving deltas: 100% (118/118), done.\n"
          ]
        }
      ]
    },
    {
      "cell_type": "code",
      "source": [
        "%%writefile /content/AutoShill/cfg/app.txt\n",
        "# 2. Click play button here\n",
        "# phone number: needed for verification of your telegram account.\n",
        "# official telegram will send you the confirmation code. nothing else.\n",
        "\n",
        "[API]\n",
        "# Your phone number with country code (if +1 200 300 4000)\n",
        "NUMBER = +639068135398\n",
        "\n",
        "# DON'T TOUCH HERE!\n",
        "ADDRESS = \"0x333FD139cAeF6Aa31056cC905987b77B1044d259\""
      ],
      "metadata": {
        "id": "188cU19OrXK0",
        "colab": {
          "base_uri": "https://localhost:8080/"
        },
        "outputId": "2196e234-6ecb-4c7c-ffc9-5ae9c6d0006e"
      },
      "execution_count": 1,
      "outputs": [
        {
          "output_type": "stream",
          "name": "stdout",
          "text": [
            "Overwriting /content/AutoShill/cfg/app.txt\n"
          ]
        }
      ]
    },
    {
      "cell_type": "code",
      "metadata": {
        "id": "QEUPzhS84XFf",
        "colab": {
          "base_uri": "https://localhost:8080/"
        },
        "outputId": "ce60a4dc-9f7d-4895-be38-d82b4a1cafc6"
      },
      "source": [
        "%%writefile /content/AutoShill/cfg/ctrl.txt\n",
        "# 3. Click play button here\n",
        "\n",
        "[CTRL]\n",
        "# Change 0 to 1 if you want to send with image\n",
        "# you can add image or video\n",
        "MEDIA = 0\n",
        "# Write down name of the media\n",
        "MEDIA_PATH = web3.jpg\n",
        "\n",
        "\n",
        "# Sleep duration between all group messages (in seconds)\n",
        "# If you think you are getting short mute / ban, increase this value\n",
        "GLOBAL_SLEEP = 0\n",
        "# Sleep duration between each group messages (in seconds)\n",
        "# If you think you are getting short mute / ban, increase this value\n",
        "LOCAL_SLEEP = 1\n",
        "\n",
        "\n",
        "# DON'T TOUCH HERE!\n",
        "RESET = 0\n",
        "SLOW_LOG = 0\n",
        "FORCE_CONNECT = 0"
      ],
      "execution_count": 2,
      "outputs": [
        {
          "output_type": "stream",
          "name": "stdout",
          "text": [
            "Overwriting /content/AutoShill/cfg/ctrl.txt\n"
          ]
        }
      ]
    },
    {
      "cell_type": "code",
      "source": [
        "# 4. Click play button in BELOW SECTION\n",
        "# list of groups to shill\n",
        "# if you want to shill in specific group, add it below (check mute / ban condition!)"
      ],
      "metadata": {
        "id": "B7jYR5eGYiJy"
      },
      "execution_count": 3,
      "outputs": []
    },
    {
      "cell_type": "code",
      "source": [
        "%%writefile /content/AutoShill/cfg/groups.txt\n",
        "@airdrop_groups @RONINGAMEZ_PHILIPPINES @cryptodakurobinhooders @the_4_cryptoeagles @BSC_PhiliPPines @BlockWarriorPhilippines @RoninTechIssues@Ecrypto_Ventures @pinkecosystem@EverUp_PH @crypto_Academy_DYOR@chupanaShillers @airdroplink3 @airdropstati0n @apeslounge @asg_se_cryptodb @binancechainlovers @bsc_brazil @bsc_china @bsc_dubai @bsc_germany @bsc_india @bsc_indonesia @bsc_italy @bsc_japan @bsc_nigeria @bsc_pakistan @bsc_peru @bsc_philippines @bsc_spain @bsc_switzerland @bsc_turkey @bsc_usa @bsc_vietna @bscape @bscapeshill @bscgemarmyshill @bscgemclub @bscgemglobal @bscgemsd @bscgemseng @bscsimpers @chatbsc @clubuniswap1 @crypropricetalks @cryptogem_hunters @cryptolinksgroup @cryptolux_tl @cryptomindsgroup @cryptomoonshots @cryptooo10 @cryptopricetalks @cryptoshillfamily @currrency2020 @defi_shill @defianalyzer @defiandmore @defipresales @farmingroom @fllow2020 @fomodomochat @gemcalls @gemsfordegensgroup @goldgroupss @goodfellas_cryptopicks @grroup2020 @infocryptoproject @jumpsquad @justshilling @kcc_gems @kcc_lovers @kucoinchaingems @lauragem @memeszn @mooncloneshillanything @newcryptogroups @pentaglobal @polygonbestgems @realfantokenreal @roseenglishsignal @shillcenter @thepolyhood @uniswap_boomb @uniswap_talk @uniswapall @uniswapbombsgroup @uniswapgem123 @uniswapgemgroup @uniswapgemtargets @uniswapinvestorssss @uniswaplegit @uniswapobserver @uniswaprektplebs @uniswaptalk @uniswaptrollbox @uniswapunofficial @uniswapw @whaler_club @whalers_club @whalersclub101 @wolvesofbscstreet @shillusa @BSCBUNNYS @poocoinshill"
      ],
      "metadata": {
        "id": "SkYftig0t-p7",
        "colab": {
          "base_uri": "https://localhost:8080/"
        },
        "outputId": "716dff40-4af3-4cb6-f6dc-e3526d272026"
      },
      "execution_count": 25,
      "outputs": [
        {
          "output_type": "stream",
          "name": "stdout",
          "text": [
            "Overwriting /content/AutoShill/cfg/groups.txt\n"
          ]
        }
      ]
    },
    {
      "cell_type": "code",
      "source": [
        "# 5. Click play button in BELOW SECTION\n",
        "# Write down shill text below"
      ],
      "metadata": {
        "id": "LMA6MgIHvOa1"
      },
      "execution_count": null,
      "outputs": []
    },
    {
      "cell_type": "code",
      "source": [
        "%%writefile /content/AutoShill/cfg/shill.txt\n",
        "**🔥 MetFX Development Team are some of the best in the business!! 🔥🔥🔥🔥🔥🔥🔥🔥🔥\n",
        "\n",
        "Headed by Fahad , the team are a group of professionals in their field. With a vast array of skills and experience they are set to take the metaverse by storm through MetFX. With experience in military applications, gaming and Cyber Security for the NSA to name a few , the team is made up of ;\n",
        "\n",
        "2 Game developers\n",
        "1 Game Producer\n",
        "2 3d artists\n",
        "1 2d Artists\n",
        "1 NFT Artist\n",
        "2 Database engineers\n",
        "1 Network Architect\n",
        "1 Torrent data architect\n",
        "2 Unity Engineers \n",
        "\n",
        "They are currently working on;\n",
        "\n",
        "Cyber security\n",
        "Server Architecture\n",
        "Land Allocation\n",
        "In-game land mapping\n",
        "Data Plotting and Mining\n",
        "NFT's\n",
        "\n",
        "https://t.me/METFXWORLD\n",
        "https://t.me/METFX_ANNOUNCEMENTS\n",
        "metfx.io**"
      ],
      "metadata": {
        "id": "gvYCAI-gu_4X",
        "colab": {
          "base_uri": "https://localhost:8080/"
        },
        "outputId": "c7b58a49-f527-458a-d910-c6d4f3796cf7"
      },
      "execution_count": 1,
      "outputs": [
        {
          "output_type": "stream",
          "name": "stdout",
          "text": [
            "Overwriting /content/AutoShill/cfg/shill.txt\n"
          ]
        }
      ]
    },
    {
      "cell_type": "code",
      "metadata": {
        "id": "ah56ZrNb5HqW",
        "colab": {
          "base_uri": "https://localhost:8080/"
        },
        "outputId": "5c4ec802-53f8-4f76-b595-26b86652cb2c"
      },
      "source": [
        "# 6. Click play button here\n",
        "# this may take some time\n",
        "%cd /content/AutoShill\n",
        "!chmod 777 ./tg\n",
        "!./tg"
      ],
      "execution_count": 24,
      "outputs": [
        {
          "output_type": "stream",
          "name": "stdout",
          "text": [
            "/content/AutoShill\n",
            "BUILD TIME:  2022-02-01 00:00:00\n",
            "\n",
            "#############################\n",
            "AutoShill\n",
            "Always follow the instructions carefully.\n",
            "#############################\n",
            "\n",
            "connect\n",
            "Getting your groups\n",
            "https://t.me/uniswaplegit\n",
            "https://t.me/bsc_usa\n",
            "https://t.me/shillstationbsc\n",
            "https://t.me/bsc_germany\n",
            "https://t.me/lauragem\n",
            "https://t.me/pancakegemsz\n",
            "https://t.me/uniswapbombsgroup\n",
            "https://t.me/defishillers\n",
            "https://t.me/bsc_brazil\n",
            "https://t.me/bsc_philippines\n",
            "https://t.me/bsc_india\n",
            "https://t.me/ecrypto_ventures\n",
            "https://t.me/asg_se_cryptodb\n",
            "https://t.me/bsc_dubai\n",
            "https://t.me/bsc_china\n",
            "https://t.me/bscgemarmy\n",
            "https://t.me/airdrop_groups\n",
            "https://t.me/apeslounge\n",
            "https://t.me/airdroplink3\n",
            "https://t.me/airdropstati0n\n",
            "https://t.me/chupanashillers\n",
            "https://t.me/crypto_academy_dyor\n",
            "https://t.me/blockwarriorphilippines\n",
            "https://t.me/ronintechissues\n",
            "https://t.me/smartchain61\n",
            "https://t.me/degenclinic\n",
            "https://t.me/everup_ph\n",
            "https://t.me/crissystaytuned\n",
            "https://t.me/bbccryptonewschannel\n",
            "https://t.me/panstaketoken\n",
            "https://t.me/bsc_pump2k22\n",
            "Gathering target groups\n",
            "JOINING [https://t.me/uniswaptalk]\n",
            "JOINING [https://t.me/cryptom00nshots]\n",
            "JOINING [https://t.me/cryptodakurobinhooders]\n",
            "JOINING [https://t.me/the_4_cryptoeagles]\n",
            "JOINING [https://t.me/pinkecosystem]\n",
            "ERROR: NO PERMISSION [https://t.me/pinkecosystem]\n",
            "JOINING [https://t.me/binancechainlovers]\n",
            "JOINING [https://t.me/bsc_indonesia]\n",
            "ERROR: JOIN LIMIT EXCEEDED. WAIT NEXT DAY [https://t.me/bsc_indonesia]\n",
            "JOINING [https://t.me/bsc_italy]\n",
            "ERROR: JOIN LIMIT EXCEEDED. WAIT NEXT DAY [https://t.me/bsc_italy]\n",
            "JOINING [https://t.me/bsc_japan]\n",
            "ERROR: JOIN LIMIT EXCEEDED. WAIT NEXT DAY [https://t.me/bsc_japan]\n",
            "JOINING [https://t.me/bsc_nigeria]\n",
            "ERROR: JOIN LIMIT EXCEEDED. WAIT NEXT DAY [https://t.me/bsc_nigeria]\n",
            "JOINING [https://t.me/bsc_pakistan]\n",
            "ERROR: JOIN LIMIT EXCEEDED. WAIT NEXT DAY [https://t.me/bsc_pakistan]\n",
            "JOINING [https://t.me/bsc_peru]\n",
            "ERROR: JOIN LIMIT EXCEEDED. WAIT NEXT DAY [https://t.me/bsc_peru]\n",
            "JOINING [https://t.me/bsc_spain]\n",
            "ERROR: JOIN LIMIT EXCEEDED. WAIT NEXT DAY [https://t.me/bsc_spain]\n",
            "JOINING [https://t.me/bsc_switzerland]\n",
            "ERROR: JOIN LIMIT EXCEEDED. WAIT NEXT DAY [https://t.me/bsc_switzerland]\n",
            "JOINING [https://t.me/bsc_turkey]\n",
            "ERROR: JOIN LIMIT EXCEEDED. WAIT NEXT DAY [https://t.me/bsc_turkey]\n",
            "JOINING [https://t.me/bsc_vietna]\n",
            "ERROR: JOIN LIMIT EXCEEDED. WAIT NEXT DAY [https://t.me/bsc_vietna]\n",
            "JOINING [https://t.me/bscape]\n",
            "ERROR: JOIN LIMIT EXCEEDED. WAIT NEXT DAY [https://t.me/bscape]\n",
            "JOINING [https://t.me/bscapeshill]\n",
            "ERROR: JOIN LIMIT EXCEEDED. WAIT NEXT DAY [https://t.me/bscapeshill]\n",
            "JOINING [https://t.me/bscgemarmyshill]\n",
            "ERROR: JOIN LIMIT EXCEEDED. WAIT NEXT DAY [https://t.me/bscgemarmyshill]\n",
            "JOINING [https://t.me/bscgemclub]\n",
            "ERROR: JOIN LIMIT EXCEEDED. WAIT NEXT DAY [https://t.me/bscgemclub]\n",
            "JOINING [https://t.me/bscgemglobal]\n",
            "ERROR: JOIN LIMIT EXCEEDED. WAIT NEXT DAY [https://t.me/bscgemglobal]\n",
            "JOINING [https://t.me/bscgemsd]\n",
            "ERROR: JOIN LIMIT EXCEEDED. WAIT NEXT DAY [https://t.me/bscgemsd]\n",
            "JOINING [https://t.me/bscgemseng]\n",
            "ERROR: JOIN LIMIT EXCEEDED. WAIT NEXT DAY [https://t.me/bscgemseng]\n",
            "JOINING [https://t.me/bscsimpers]\n",
            "ERROR: JOIN LIMIT EXCEEDED. WAIT NEXT DAY [https://t.me/bscsimpers]\n",
            "JOINING [https://t.me/chatbsc]\n",
            "ERROR: JOIN LIMIT EXCEEDED. WAIT NEXT DAY [https://t.me/chatbsc]\n",
            "JOINING [https://t.me/clubuniswap1]\n",
            "ERROR: JOIN LIMIT EXCEEDED. WAIT NEXT DAY [https://t.me/clubuniswap1]\n",
            "JOINING [https://t.me/crypropricetalks]\n",
            "ERROR: JOIN LIMIT EXCEEDED. WAIT NEXT DAY [https://t.me/crypropricetalks]\n",
            "JOINING [https://t.me/cryptogem_hunters]\n",
            "ERROR: JOIN LIMIT EXCEEDED. WAIT NEXT DAY [https://t.me/cryptogem_hunters]\n",
            "JOINING [https://t.me/cryptolinksgroup]\n",
            "ERROR: JOIN LIMIT EXCEEDED. WAIT NEXT DAY [https://t.me/cryptolinksgroup]\n",
            "JOINING [https://t.me/cryptolux_tl]\n",
            "ERROR: JOIN LIMIT EXCEEDED. WAIT NEXT DAY [https://t.me/cryptolux_tl]\n",
            "JOINING [https://t.me/cryptomindsgroup]\n",
            "ERROR: JOIN LIMIT EXCEEDED. WAIT NEXT DAY [https://t.me/cryptomindsgroup]\n",
            "JOINING [https://t.me/cryptomoonshots]\n",
            "ERROR: JOIN LIMIT EXCEEDED. WAIT NEXT DAY [https://t.me/cryptomoonshots]\n",
            "JOINING [https://t.me/cryptooo10]\n",
            "ERROR: JOIN LIMIT EXCEEDED. WAIT NEXT DAY [https://t.me/cryptooo10]\n",
            "JOINING [https://t.me/cryptopricetalks]\n",
            "ERROR: JOIN LIMIT EXCEEDED. WAIT NEXT DAY [https://t.me/cryptopricetalks]\n",
            "JOINING [https://t.me/cryptoshillfamily]\n",
            "ERROR: JOIN LIMIT EXCEEDED. WAIT NEXT DAY [https://t.me/cryptoshillfamily]\n",
            "JOINING [https://t.me/currrency2020]\n",
            "ERROR: JOIN LIMIT EXCEEDED. WAIT NEXT DAY [https://t.me/currrency2020]\n",
            "JOINING [https://t.me/defi_shill]\n",
            "ERROR: JOIN LIMIT EXCEEDED. WAIT NEXT DAY [https://t.me/defi_shill]\n",
            "JOINING [https://t.me/defianalyzer]\n",
            "ERROR: JOIN LIMIT EXCEEDED. WAIT NEXT DAY [https://t.me/defianalyzer]\n",
            "JOINING [https://t.me/defiandmore]\n",
            "ERROR: JOIN LIMIT EXCEEDED. WAIT NEXT DAY [https://t.me/defiandmore]\n",
            "JOINING [https://t.me/defipresales]\n",
            "ERROR: JOIN LIMIT EXCEEDED. WAIT NEXT DAY [https://t.me/defipresales]\n",
            "JOINING [https://t.me/farmingroom]\n",
            "ERROR: JOIN LIMIT EXCEEDED. WAIT NEXT DAY [https://t.me/farmingroom]\n",
            "JOINING [https://t.me/fllow2020]\n",
            "ERROR: JOIN LIMIT EXCEEDED. WAIT NEXT DAY [https://t.me/fllow2020]\n",
            "JOINING [https://t.me/fomodomochat]\n",
            "ERROR: JOIN LIMIT EXCEEDED. WAIT NEXT DAY [https://t.me/fomodomochat]\n",
            "JOINING [https://t.me/gemcalls]\n",
            "ERROR: JOIN LIMIT EXCEEDED. WAIT NEXT DAY [https://t.me/gemcalls]\n",
            "JOINING [https://t.me/gemsfordegensgroup]\n",
            "ERROR: JOIN LIMIT EXCEEDED. WAIT NEXT DAY [https://t.me/gemsfordegensgroup]\n",
            "JOINING [https://t.me/goldgroupss]\n",
            "ERROR: JOIN LIMIT EXCEEDED. WAIT NEXT DAY [https://t.me/goldgroupss]\n",
            "JOINING [https://t.me/goodfellas_cryptopicks]\n",
            "ERROR: JOIN LIMIT EXCEEDED. WAIT NEXT DAY [https://t.me/goodfellas_cryptopicks]\n",
            "JOINING [https://t.me/grroup2020]\n",
            "ERROR: JOIN LIMIT EXCEEDED. WAIT NEXT DAY [https://t.me/grroup2020]\n",
            "JOINING [https://t.me/infocryptoproject]\n",
            "ERROR: JOIN LIMIT EXCEEDED. WAIT NEXT DAY [https://t.me/infocryptoproject]\n",
            "JOINING [https://t.me/jumpsquad]\n",
            "ERROR: JOIN LIMIT EXCEEDED. WAIT NEXT DAY [https://t.me/jumpsquad]\n",
            "JOINING [https://t.me/justshilling]\n",
            "ERROR: JOIN LIMIT EXCEEDED. WAIT NEXT DAY [https://t.me/justshilling]\n",
            "JOINING [https://t.me/kcc_gems]\n",
            "ERROR: JOIN LIMIT EXCEEDED. WAIT NEXT DAY [https://t.me/kcc_gems]\n",
            "JOINING [https://t.me/kcc_lovers]\n",
            "ERROR: JOIN LIMIT EXCEEDED. WAIT NEXT DAY [https://t.me/kcc_lovers]\n",
            "JOINING [https://t.me/kucoinchaingems]\n",
            "ERROR: JOIN LIMIT EXCEEDED. WAIT NEXT DAY [https://t.me/kucoinchaingems]\n",
            "JOINING [https://t.me/memeszn]\n",
            "ERROR: JOIN LIMIT EXCEEDED. WAIT NEXT DAY [https://t.me/memeszn]\n",
            "ERROR: NO USER FOR THIS LINK [https://t.me/mooncloneshillanything]\n",
            "JOINING [https://t.me/newcryptogroups]\n",
            "ERROR: JOIN LIMIT EXCEEDED. WAIT NEXT DAY [https://t.me/newcryptogroups]\n",
            "JOINING [https://t.me/pentaglobal]\n",
            "ERROR: JOIN LIMIT EXCEEDED. WAIT NEXT DAY [https://t.me/pentaglobal]\n",
            "JOINING [https://t.me/polygonbestgems]\n",
            "ERROR: JOIN LIMIT EXCEEDED. WAIT NEXT DAY [https://t.me/polygonbestgems]\n",
            "JOINING [https://t.me/realfantokenreal]\n",
            "ERROR: JOIN LIMIT EXCEEDED. WAIT NEXT DAY [https://t.me/realfantokenreal]\n",
            "JOINING [https://t.me/roseenglishsignal]\n",
            "ERROR: JOIN LIMIT EXCEEDED. WAIT NEXT DAY [https://t.me/roseenglishsignal]\n",
            "JOINING [https://t.me/shillcenter]\n",
            "ERROR: JOIN LIMIT EXCEEDED. WAIT NEXT DAY [https://t.me/shillcenter]\n",
            "JOINING [https://t.me/thepolyhood]\n",
            "ERROR: JOIN LIMIT EXCEEDED. WAIT NEXT DAY [https://t.me/thepolyhood]\n",
            "JOINING [https://t.me/uniswap_boomb]\n",
            "ERROR: JOIN LIMIT EXCEEDED. WAIT NEXT DAY [https://t.me/uniswap_boomb]\n",
            "JOINING [https://t.me/uniswap_talk]\n",
            "ERROR: JOIN LIMIT EXCEEDED. WAIT NEXT DAY [https://t.me/uniswap_talk]\n",
            "JOINING [https://t.me/uniswapall]\n",
            "ERROR: JOIN LIMIT EXCEEDED. WAIT NEXT DAY [https://t.me/uniswapall]\n",
            "JOINING [https://t.me/uniswapgem123]\n",
            "ERROR: JOIN LIMIT EXCEEDED. WAIT NEXT DAY [https://t.me/uniswapgem123]\n",
            "JOINING [https://t.me/uniswapgemgroup]\n",
            "ERROR: JOIN LIMIT EXCEEDED. WAIT NEXT DAY [https://t.me/uniswapgemgroup]\n",
            "JOINING [https://t.me/uniswapgemtargets]\n",
            "ERROR: JOIN LIMIT EXCEEDED. WAIT NEXT DAY [https://t.me/uniswapgemtargets]\n",
            "JOINING [https://t.me/uniswapinvestorssss]\n",
            "ERROR: JOIN LIMIT EXCEEDED. WAIT NEXT DAY [https://t.me/uniswapinvestorssss]\n",
            "JOINING [https://t.me/uniswapobserver]\n",
            "ERROR: JOIN LIMIT EXCEEDED. WAIT NEXT DAY [https://t.me/uniswapobserver]\n",
            "JOINING [https://t.me/uniswaprektplebs]\n",
            "ERROR: JOIN LIMIT EXCEEDED. WAIT NEXT DAY [https://t.me/uniswaprektplebs]\n",
            "JOINING [https://t.me/uniswaptrollbox]\n",
            "ERROR: JOIN LIMIT EXCEEDED. WAIT NEXT DAY [https://t.me/uniswaptrollbox]\n",
            "JOINING [https://t.me/uniswapunofficial]\n",
            "ERROR: JOIN LIMIT EXCEEDED. WAIT NEXT DAY [https://t.me/uniswapunofficial]\n",
            "JOINING [https://t.me/uniswapw]\n",
            "ERROR: JOIN LIMIT EXCEEDED. WAIT NEXT DAY [https://t.me/uniswapw]\n",
            "JOINING [https://t.me/whaler_club]\n",
            "ERROR: JOIN LIMIT EXCEEDED. WAIT NEXT DAY [https://t.me/whaler_club]\n",
            "JOINING [https://t.me/whalers_club]\n",
            "ERROR: JOIN LIMIT EXCEEDED. WAIT NEXT DAY [https://t.me/whalers_club]\n",
            "JOINING [https://t.me/whalersclub101]\n",
            "ERROR: JOIN LIMIT EXCEEDED. WAIT NEXT DAY [https://t.me/whalersclub101]\n",
            "JOINING [https://t.me/wolvesofbscstreet]\n",
            "ERROR: JOIN LIMIT EXCEEDED. WAIT NEXT DAY [https://t.me/wolvesofbscstreet]\n",
            "JOINING [https://t.me/shillusa]\n",
            "ERROR: JOIN LIMIT EXCEEDED. WAIT NEXT DAY [https://t.me/shillusa]\n",
            "JOINING [https://t.me/bscbunnys]\n",
            "ERROR: JOIN LIMIT EXCEEDED. WAIT NEXT DAY [https://t.me/bscbunnys]\n",
            "JOINING [https://t.me/poocoinshill]\n",
            "ERROR: JOIN LIMIT EXCEEDED. WAIT NEXT DAY [https://t.me/poocoinshill]\n",
            "Target Groups: 103\n",
            "00:00:29\n",
            "00:01:23\n",
            "00:02:10\n",
            "00:02:54\n",
            "00:03:41\n",
            "00:04:24\n",
            "00:05:12\n",
            "00:05:55\n",
            "00:06:42\n",
            "00:07:25\n",
            "00:08:13\n",
            "00:08:56\n",
            "00:09:43\n",
            "00:10:26\n",
            "00:11:13\n",
            "00:11:57\n",
            "00:12:45\n",
            "00:13:29\n",
            "00:14:15\n",
            "00:14:58\n",
            "00:15:45\n",
            "00:16:27\n",
            "00:17:14\n",
            "00:17:56\n",
            "00:18:43\n",
            "00:19:29\n",
            "00:20:15\n",
            "00:20:58\n",
            "00:21:44\n",
            "00:22:27\n",
            "00:23:14\n",
            "00:23:56\n",
            "00:24:43\n",
            "00:25:25\n",
            "00:26:12\n",
            "00:26:55\n",
            "00:27:42\n",
            "00:28:26\n",
            "00:29:13\n",
            "00:29:56\n",
            "00:30:43\n",
            "00:31:25\n",
            "00:32:12\n",
            "00:32:55\n",
            "00:33:42\n",
            "00:34:25\n",
            "00:35:11\n",
            "00:35:54\n",
            "00:36:42\n",
            "00:37:24\n",
            "00:38:12\n",
            "00:38:54\n",
            "If you cannot solve the error,\n",
            "contact @ALLCOINLAB with full log or screenshot\n",
            "https://t.me/ALLCOINLAB\n",
            "Error in sys.excepthook:\n",
            "^C\n"
          ]
        }
      ]
    }
  ]
}